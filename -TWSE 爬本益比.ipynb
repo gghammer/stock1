{
 "cells": [
  {
   "cell_type": "code",
   "execution_count": 1,
   "metadata": {
    "collapsed": false
   },
   "outputs": [],
   "source": [
    "import requests\n",
    "import base64\n",
    "from bs4 import BeautifulSoup\n",
    "from datetime import datetime\n",
    "import re\n",
    "import time\n",
    "import pandas\n",
    "import sqlite3 as lite\n",
    "\n",
    "payload={}\n",
    "\n",
    "res = requests.post('http://www.tse.com.tw/ch/trading/exchange/BWIBBU/BWIBBU_d.php#')\n",
    "res.encoding = 'big5'\n",
    "soup    = BeautifulSoup(res.text, 'html.parser') \n",
    "for inp in soup.select('input'):\n",
    "    if 'hidden' in inp.get('type'):\n",
    "        payload[inp.get('name')] = base64.b64encode(inp.get('value').encode('utf-8'))          \n",
    "res2 = requests.post('http://www.tse.com.tw/ch/trading/exchange/BWIBBU/BWIBBU_print.php?language=ch&save=csv',data = payload ,stream = True)\n",
    "from shutil import copyfileobj\n",
    "f = open('twse.csv','wb')\n",
    "copyfileobj (res2.raw,f)\n",
    "f.close()\n",
    "\n"
   ]
  },
  {
   "cell_type": "code",
   "execution_count": 6,
   "metadata": {
    "collapsed": false
   },
   "outputs": [
    {
     "name": "stdout",
     "output_type": "stream",
     "text": [
      "                                                                         106年02月 20日  個股日本益比、殖利率及股價淨值比 (依證券代碼排序查詢)\n",
      "證券代號                                               證券名稱    本益比    殖利率(%)                                     股價淨值比\n",
      "1101                                               台泥      21.40  3.63                                        1.28\n",
      "1102                                               亞泥      35.66  3.72                                        0.82\n",
      "1103                                               嘉泥      13.72  0.93                                        0.49\n",
      "1104                                               環泥      9.81   4.21                                        1.03\n",
      "1108                                               幸福      11.93  8.59                                        0.84\n",
      "1109                                               信大      28.89  1.92                                        0.74\n",
      "1110                                               東泥      60.38  1.27                                        1.04\n",
      "1201                                               味全      -      0.00                                        1.86\n",
      "1203                                               味王      22.86  4.17                                        1.34\n",
      "1210                                               大成      12.28  2.46                                        1.35\n",
      "1213                                               大飲      161.82 5.62                                        1.44\n",
      "1215                                               卜蜂      11.76  4.27                                        2.05\n",
      "1216                                               統一      20.96  3.67                                        3.30\n",
      "1217                                               愛之味     -      0.00                                        0.72\n",
      "1218                                               泰山      16.54  0.00                                        1.44\n",
      "1219                                               福壽      29.82  1.52                                        1.36\n",
      "1220                                               台榮      12.25  4.48                                        0.90\n",
      "1225                                               福懋油     14.79  2.01                                        3.48\n",
      "1227                                               佳格      27.03  3.49                                        4.96\n",
      "1229                                               聯華      12.30  6.17                                        0.97\n",
      "1231                                               聯華食     11.49  5.16                                        1.69\n",
      "1232                                               大統益     16.27  5.77                                        3.96\n",
      "1233                                               天仁      17.66  5.24                                        2.57\n",
      "1234                                               黑松      12.60  4.55                                        0.75\n",
      "1235                                               興泰      6.05   0.00                                        0.60\n",
      "1236                                               宏亞      38.85  3.75                                        1.08\n",
      "1256                                               鮮活果汁-KY 17.08  2.93                                        4.05\n",
      "1262                                               綠悅-KY   14.42  3.03                                        2.47\n",
      "1301                                               台塑      17.95  3.85                                        2.08\n",
      "...                                                                                                            ...\n",
      "9921                                               巨大      22.46  3.19                                        3.71\n",
      "9924                                               福興      10.01  6.47                                        1.63\n",
      "9925                                               新保      15.23  5.03                                        1.75\n",
      "9926                                               新海      24.17  3.92                                        2.78\n",
      "9927                                               泰銘      11.14  5.54                                        1.64\n",
      "9928                                               中視      -      0.00                                        2.01\n",
      "9929                                               秋雨      -      0.00                                        1.61\n",
      "9930                                               中聯資源    17.98  6.34                                        3.08\n",
      "9931                                               欣高      16.90  3.22                                        1.93\n",
      "9933                                               中鼎      16.73  4.69                                        2.32\n",
      "9934                                               成霖      -      7.34                                        1.03\n",
      "9935                                               慶豐富     25.15  0.00                                        1.38\n",
      "9937                                               全國      19.33  3.59                                        2.69\n",
      "9938                                               百和      19.58  2.16                                        3.72\n",
      "9939                                               宏全      15.06  3.41                                        1.44\n",
      "9940                                               信義      43.68  2.11                                        2.39\n",
      "9941                                               裕融      15.17  5.55                                        2.51\n",
      "9942                                               茂順      15.04  4.96                                        2.52\n",
      "9943                                               好樂迪     10.64  7.71                                        2.10\n",
      "9944                                               新麗      45.31  1.35                                        0.81\n",
      "9945                                               潤泰新     8.55   0.00                                        1.58\n",
      "9946                                               三發地產    5.13   8.70                                        0.65\n",
      "9955                                               佳龍      -      0.00                                        0.82\n",
      "9958                                               世紀鋼     12.91  4.02                                        0.79\n",
      "說明： <font color=\"#FF0000\" style=\"background-col... NaN     NaN    NaN                                          NaN\n",
      "本網頁資料推計基礎如下：                                       NaN     NaN    NaN                                          NaN\n",
      "1. 本益比 = 收盤價／每股參考稅後純益，其中每股參考稅後純益 = 該公司稅後參考純益／發行... NaN     NaN    NaN                                          NaN\n",
      "2. 殖利率 = 每股股利／收盤價*100%，其中每股股利採用該公司近期每股配發之盈餘分配之現... NaN     NaN    NaN                                          NaN\n",
      "3. 股價淨值比 = 收盤價／每股參考淨值，其中每股參考淨值採用公開資訊觀測站公告之最近一季每... NaN     NaN    NaN                                          NaN\n",
      "4. 本網頁所採用發行參考股數是以公開資訊觀測站公告最近一季財務報表之淨值及每股參考淨值為推計... NaN     NaN    NaN                                          NaN\n",
      "\n",
      "[900 rows x 1 columns]\n"
     ]
    }
   ],
   "source": [
    "twse = pandas.read_csv('twse.csv',encoding = \"big5\")\n",
    "print(twse)"
   ]
  },
  {
   "cell_type": "code",
   "execution_count": null,
   "metadata": {
    "collapsed": true
   },
   "outputs": [],
   "source": []
  }
 ],
 "metadata": {
  "kernelspec": {
   "display_name": "Python 3",
   "language": "python",
   "name": "python3"
  },
  "language_info": {
   "codemirror_mode": {
    "name": "ipython",
    "version": 3
   },
   "file_extension": ".py",
   "mimetype": "text/x-python",
   "name": "python",
   "nbconvert_exporter": "python",
   "pygments_lexer": "ipython3",
   "version": "3.6.0"
  }
 },
 "nbformat": 4,
 "nbformat_minor": 2
}
