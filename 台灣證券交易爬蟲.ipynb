{
 "cells": [
  {
   "cell_type": "code",
   "execution_count": 18,
   "metadata": {
    "collapsed": false
   },
   "outputs": [
    {
     "name": "stderr",
     "output_type": "stream",
     "text": [
      "//anaconda/lib/python3.6/site-packages/pandas/core/generic.py:1201: UserWarning: The spaces in these column names will not be changed. In pandas versions < 0.14, spaces were converted to underscores.\n",
      "  chunksize=chunksize, dtype=dtype)\n"
     ]
    },
    {
     "data": {
      "text/plain": [
       "(221, b'2.0.0 closing connection u14sm41905436pfg.18 - gsmtp')"
      ]
     },
     "execution_count": 18,
     "metadata": {},
     "output_type": "execute_result"
    }
   ],
   "source": [
    "import requests\n",
    "import base64\n",
    "from bs4 import BeautifulSoup\n",
    "import pandas\n",
    "import sqlite3 as lite\n",
    "from shutil import copyfileobj\n",
    "import smtplib\n",
    "import mimetypes\n",
    "from email.mime.multipart import MIMEMultipart\n",
    "from email import encoders\n",
    "from email.message import Message\n",
    "from email.mime.audio import MIMEAudio\n",
    "from email.mime.base import MIMEBase\n",
    "from email.mime.image import MIMEImage\n",
    "from email.mime.text import MIMEText\n",
    "from datetime import datetime\n",
    "\n",
    "#get time of day \n",
    "currenttime = datetime.now()\n",
    "\n",
    "#gmail setting\n",
    "emailfrom = \"gghammer@gmail.com\"\n",
    "emailto = \"gghammer@gmail.com\"\n",
    "fileToSend = \"daily.xlsx\"\n",
    "username = \"gghammer\"\n",
    "password = \"ggpudin81161\"\n",
    "\n",
    "#payload data for twse\n",
    "payload={}\n",
    "\n",
    "#catch payload \n",
    "res = requests.post('http://www.tse.com.tw/ch/trading/exchange/BWIBBU/BWIBBU_d.php#')\n",
    "res.encoding = 'big5'\n",
    "\n",
    "#find key & Encryption \n",
    "soup    = BeautifulSoup(res.text, 'html.parser') \n",
    "for inp in soup.select('input'):\n",
    "    if 'hidden' in inp.get('type'):\n",
    "        payload[inp.get('name')] = base64.b64encode(inp.get('value').encode('utf-8'))       \n",
    "#download csw file        \n",
    "res2 = requests.post('http://www.tse.com.tw/ch/trading/exchange/BWIBBU/BWIBBU_print.php?language=ch&save=csv',data = payload ,stream = True)\n",
    "\n",
    "#save to twse.csv \n",
    "f = open('twse.csv','wb')\n",
    "copyfileobj (res2.raw,f)\n",
    "f.close()\n",
    "\n",
    "#read csw to pandas \n",
    "twse = pandas.read_csv('twse.csv',encoding = \"big5\")\n",
    "\n",
    "#save to sqlite file \n",
    "with lite.connect('twse.sqlite') as conn:\n",
    "    twse.to_sql(name='twse', con = conn, if_exists='replace' )\n",
    "    \n",
    "#save to xlsx file\n",
    "writer = pandas.ExcelWriter(fileToSend, engine='xlsxwriter')\n",
    "twse.to_excel(writer, sheet_name='Sheet1')\n",
    "writer.save()\n",
    "\n",
    "#gmail send \n",
    "msg = MIMEMultipart()\n",
    "msg[\"From\"] = emailfrom\n",
    "msg[\"To\"] = emailto\n",
    "msg[\"Subject\"] = \"哈墨投顧日報 \"+currenttime.strftime('%Y-%m-%d')\n",
    "msg.preamble = \"help I cannot send an attachment to save my life\"\n",
    "\n",
    "ctype, encoding = mimetypes.guess_type(fileToSend)\n",
    "if ctype is None or encoding is not None:\n",
    "    ctype = \"application/octet-stream\"\n",
    "\n",
    "maintype, subtype = ctype.split(\"/\", 1)\n",
    "\n",
    "if maintype == \"text\":\n",
    "    fp = open(fileToSend)\n",
    "    # Note: we should handle calculating the charset\n",
    "    attachment = MIMEText(fp.read(), _subtype=subtype)\n",
    "    fp.close()\n",
    "elif maintype == \"image\":\n",
    "    fp = open(fileToSend, \"rb\")\n",
    "    attachment = MIMEImage(fp.read(), _subtype=subtype)\n",
    "    fp.close()\n",
    "elif maintype == \"audio\":\n",
    "    fp = open(fileToSend, \"rb\")\n",
    "    attachment = MIMEAudio(fp.read(), _subtype=subtype)\n",
    "    fp.close()\n",
    "else:\n",
    "    fp = open(fileToSend, \"rb\")\n",
    "    attachment = MIMEBase(maintype, subtype)\n",
    "    attachment.set_payload(fp.read())\n",
    "    fp.close()\n",
    "    encoders.encode_base64(attachment)\n",
    "attachment.add_header(\"Content-Disposition\", \"attachment\", filename=fileToSend)\n",
    "msg.attach(attachment)\n",
    "\n",
    "server = smtplib.SMTP(\"smtp.gmail.com:587\")\n",
    "server.starttls()\n",
    "server.login(username,password)\n",
    "server.sendmail(emailfrom, emailto, msg.as_string())\n",
    "server.quit()"
   ]
  },
  {
   "cell_type": "code",
   "execution_count": null,
   "metadata": {
    "collapsed": true
   },
   "outputs": [],
   "source": []
  }
 ],
 "metadata": {
  "kernelspec": {
   "display_name": "Python 3",
   "language": "python",
   "name": "python3"
  },
  "language_info": {
   "codemirror_mode": {
    "name": "ipython",
    "version": 3
   },
   "file_extension": ".py",
   "mimetype": "text/x-python",
   "name": "python",
   "nbconvert_exporter": "python",
   "pygments_lexer": "ipython3",
   "version": "3.6.0"
  }
 },
 "nbformat": 4,
 "nbformat_minor": 2
}
