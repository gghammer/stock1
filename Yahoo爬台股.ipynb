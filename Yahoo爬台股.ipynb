{
 "cells": [
  {
   "cell_type": "code",
   "execution_count": 63,
   "metadata": {
    "collapsed": false
   },
   "outputs": [
    {
     "name": "stdout",
     "output_type": "stream",
     "text": [
      "1101 台泥\n",
      "開盤價= 37.70\n",
      "收盤價= 37.55\n",
      "漲跌價= -0.25\n",
      "漲跌百分比= -0.66%\n",
      "最高= 37.75\n",
      "最低= 37.55\n",
      "日量= 406000\n",
      "50日均線= 36.89\n",
      "200日均線= 36.38\n",
      "本益比=\n",
      "殖利率=\n",
      "股價淨值比=\n"
     ]
    }
   ],
   "source": [
    "from yahoo_finance import Share\n",
    "import pandas\n",
    "import sqlite3 as lite\n",
    "\n",
    "\n",
    "\n",
    "with lite.connect('stock.sqlite') as conn:\n",
    "    cur  = conn.cursor()\n",
    "    cur.execute(\"SELECT * FROM 股票代號\")\n",
    "    for i in range(1,2):        \n",
    "        data = cur.fetchone()\n",
    "        stock = Share(data[0]+'.TW')       \n",
    "        #print(data[0],data[1],stock.get_open(),stock.get_price(),stock.get_days_high(),\n",
    "        #      stock.get_days_low(),stock.get_volume(),stock.get_trade_datetime())   \n",
    "        print(data[0],data[1])\n",
    "        print(\"開盤價=\",stock.get_open())\n",
    "        print(\"收盤價=\",stock.get_price())\n",
    "        print(\"漲跌價=\",stock.get_change())\n",
    "        print(\"漲跌百分比=\",stock.get_percent_change())        \n",
    "        print(\"最高=\",stock.get_days_high())\n",
    "        print(\"最低=\",stock.get_days_low())  \n",
    "        print(\"日量=\",stock.get_volume())\n",
    "        print(\"50日均線=\",stock.get_50day_moving_avg())  \n",
    "        print(\"200日均線=\",stock.get_200day_moving_avg())\n",
    "        print(\"本益比=\",stock.get_price_earnings_ratio())   \n",
    "        print(\"殖利率=\",stock.get_price_earnings_ratio())  \n",
    "        print(\"股價淨值比=\",stock.get_price_book())     \n",
    "        \n",
    "        \n",
    "conn.close()        \n",
    "      "
   ]
  },
  {
   "cell_type": "code",
   "execution_count": 120,
   "metadata": {
    "collapsed": false
   },
   "outputs": [
    {
     "name": "stdout",
     "output_type": "stream",
     "text": [
      "<class 'list'>\n"
     ]
    },
    {
     "ename": "TypeError",
     "evalue": "'int' object is not callable",
     "output_type": "error",
     "traceback": [
      "\u001b[0;31m---------------------------------------------------------------------------\u001b[0m",
      "\u001b[0;31mTypeError\u001b[0m                                 Traceback (most recent call last)",
      "\u001b[0;32m<ipython-input-120-da7db1b73952>\u001b[0m in \u001b[0;36m<module>\u001b[0;34m()\u001b[0m\n\u001b[1;32m      7\u001b[0m \u001b[0;34m\u001b[0m\u001b[0m\n\u001b[1;32m      8\u001b[0m \u001b[0mprint\u001b[0m\u001b[0;34m(\u001b[0m\u001b[0mtype\u001b[0m\u001b[0;34m(\u001b[0m\u001b[0mstock\u001b[0m\u001b[0;34m)\u001b[0m\u001b[0;34m)\u001b[0m\u001b[0;34m\u001b[0m\u001b[0m\n\u001b[0;32m----> 9\u001b[0;31m \u001b[0mprint\u001b[0m\u001b[0;34m(\u001b[0m\u001b[0mlen\u001b[0m\u001b[0;34m(\u001b[0m\u001b[0mstock\u001b[0m\u001b[0;34m)\u001b[0m\u001b[0;34m)\u001b[0m\u001b[0;34m\u001b[0m\u001b[0m\n\u001b[0m\u001b[1;32m     10\u001b[0m \u001b[0;31m#print(rrr)\u001b[0m\u001b[0;34m\u001b[0m\u001b[0;34m\u001b[0m\u001b[0m\n\u001b[1;32m     11\u001b[0m \u001b[0;34m\u001b[0m\u001b[0m\n",
      "\u001b[0;31mTypeError\u001b[0m: 'int' object is not callable"
     ]
    }
   ],
   "source": [
    "def getStock_history(id,start,end):\n",
    "    stock = Share(str(id)+'.TW')\n",
    "    data = stock.get_historical(start, end)\n",
    "    return data\n",
    " \n",
    "stock = getStock_history(2353,'2017-03-13','2017-03-14')\n",
    "\n",
    "print(type(stock))\n",
    "print(len(stock))\n",
    "#print(rrr)\n",
    "\n",
    "#for i in range(0,length):\n",
    "#    print(data[i])\n",
    "    "
   ]
  },
  {
   "cell_type": "code",
   "execution_count": 122,
   "metadata": {
    "collapsed": false
   },
   "outputs": [
    {
     "name": "stdout",
     "output_type": "stream",
     "text": [
      "2017-03-14\n",
      "14.40\n"
     ]
    }
   ],
   "source": [
    "\n",
    "today = datetime.date.today() #todays date\n",
    "stock = Share(\"2353.TW\")\n",
    "stream = stock.get_historical('2017-03-13',str(today))\n",
    "data = stream[0]\n",
    "\n",
    "stock_date = data['Date']\n",
    "stock_open = data['Open']\n",
    "\n",
    "print(stock_date)\n",
    "print(stock_open)"
   ]
  },
  {
   "cell_type": "code",
   "execution_count": 121,
   "metadata": {
    "collapsed": false
   },
   "outputs": [
    {
     "name": "stdout",
     "output_type": "stream",
     "text": [
      "<class 'list'>\n"
     ]
    },
    {
     "ename": "TypeError",
     "evalue": "'int' object is not callable",
     "output_type": "error",
     "traceback": [
      "\u001b[0;31m---------------------------------------------------------------------------\u001b[0m",
      "\u001b[0;31mTypeError\u001b[0m                                 Traceback (most recent call last)",
      "\u001b[0;32m<ipython-input-121-ac7a3c000182>\u001b[0m in \u001b[0;36m<module>\u001b[0;34m()\u001b[0m\n\u001b[1;32m      7\u001b[0m \u001b[0;34m\u001b[0m\u001b[0m\n\u001b[1;32m      8\u001b[0m \u001b[0mprint\u001b[0m\u001b[0;34m(\u001b[0m\u001b[0mtype\u001b[0m\u001b[0;34m(\u001b[0m\u001b[0mstock\u001b[0m\u001b[0;34m)\u001b[0m\u001b[0;34m)\u001b[0m\u001b[0;34m\u001b[0m\u001b[0m\n\u001b[0;32m----> 9\u001b[0;31m \u001b[0mprint\u001b[0m\u001b[0;34m(\u001b[0m\u001b[0mlen\u001b[0m\u001b[0;34m(\u001b[0m\u001b[0mstock\u001b[0m\u001b[0;34m)\u001b[0m\u001b[0;34m)\u001b[0m\u001b[0;34m\u001b[0m\u001b[0m\n\u001b[0m",
      "\u001b[0;31mTypeError\u001b[0m: 'int' object is not callable"
     ]
    }
   ],
   "source": [
    "def getStock_history(id,start,end):\n",
    "    stock = Share(str(id)+'.TW')\n",
    "    data = stock.get_historical(start, end)\n",
    "    return data\n",
    " \n",
    "stock = getStock_history(2353,'2017-03-13','2017-03-14')\n",
    "\n",
    "print(type(stock))\n",
    "print(len(stock))"
   ]
  },
  {
   "cell_type": "code",
   "execution_count": null,
   "metadata": {
    "collapsed": true
   },
   "outputs": [],
   "source": []
  }
 ],
 "metadata": {
  "kernelspec": {
   "display_name": "Python 3",
   "language": "python",
   "name": "python3"
  },
  "language_info": {
   "codemirror_mode": {
    "name": "ipython",
    "version": 3
   },
   "file_extension": ".py",
   "mimetype": "text/x-python",
   "name": "python",
   "nbconvert_exporter": "python",
   "pygments_lexer": "ipython3",
   "version": "3.6.0"
  }
 },
 "nbformat": 4,
 "nbformat_minor": 2
}
