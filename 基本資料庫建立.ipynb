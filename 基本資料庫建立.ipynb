{
 "cells": [
  {
   "cell_type": "code",
   "execution_count": 9,
   "metadata": {
    "collapsed": false
   },
   "outputs": [
    {
     "name": "stdout",
     "output_type": "stream",
     "text": [
      "Opened database successfully\n",
      "Table created successfully\n"
     ]
    }
   ],
   "source": [
    "import pandas\n",
    "import sqlite3\n",
    "\n",
    "#create sqlite lib\n",
    "conn = sqlite3.connect('twse.sqlite')\n",
    "print (\"Opened database successfully\")\n",
    "\n",
    "#save to sqlite file \n",
    "with sqlite3.connect('twse.sqlite') as conn:\n",
    "    #conn.execute('''CREATE TABLE test\n",
    "    #            (dd1 VARCHAR(20),dd2 VARCHAR(20));''')   \n",
    "    \n",
    "    conn.execute('''CREATE TABLE 歷史股價\n",
    "                (日期 DATE,代號 VARCHAR(10),名稱 VARCHAR(10),開盤價 INTEGER,收盤價 INTEGER,最高 INTEGER,最低 INTEGER);''')   \n",
    "    \n",
    "    conn.execute('''CREATE TABLE 基本面\n",
    "                (日期 DATE,代號 VARCHAR(10),名稱 VARCHAR(10),\n",
    "                EPS INTEGER,本益比 INTEGER,殖利率 INTEGER,股價淨值比 INTEGER,\n",
    "                月營收 INTEGER,季營收 INTEGER,年營收 INTEGER,\n",
    "                配息 INTEGER,配股 INTEGER);''')    \n",
    "\n",
    "    conn.execute('''CREATE TABLE 技術面\n",
    "                (日期 DATE,代號 VARCHAR(10),名稱 VARCHAR(10),\n",
    "                日量 INTEGER,週量 INTEGER,月量 INTEGER,\n",
    "                五日K INTEGER,二十日K INTEGER,五週k INTEGER,二十週k INTEGER,\n",
    "                五日KD INTEGER,五週kD INTEGER,二十週kD INTEGER);''') \n",
    "    \n",
    "print (\"Table created successfully\")\n",
    "conn.close()"
   ]
  },
  {
   "cell_type": "code",
   "execution_count": null,
   "metadata": {
    "collapsed": true
   },
   "outputs": [],
   "source": []
  }
 ],
 "metadata": {
  "kernelspec": {
   "display_name": "Python 3",
   "language": "python",
   "name": "python3"
  },
  "language_info": {
   "codemirror_mode": {
    "name": "ipython",
    "version": 3
   },
   "file_extension": ".py",
   "mimetype": "text/x-python",
   "name": "python",
   "nbconvert_exporter": "python",
   "pygments_lexer": "ipython3",
   "version": "3.6.0"
  }
 },
 "nbformat": 4,
 "nbformat_minor": 2
}
