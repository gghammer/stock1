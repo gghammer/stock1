{
 "cells": [
  {
   "cell_type": "code",
   "execution_count": 11,
   "metadata": {
    "collapsed": false
   },
   "outputs": [
    {
     "name": "stdout",
     "output_type": "stream",
     "text": [
      "Connector to MYSQL Server: 192.168.0.110 SUCCESS\n",
      "MySQL LIB created successfully\n"
     ]
    }
   ],
   "source": [
    "import mysql.connector\n",
    "import sys\n",
    "\n",
    "def conn_mysql():\n",
    "    try:\n",
    "        server = '192.168.0.110'    \n",
    "        cnx = mysql.connector.connect(user='stock', password='stock168',host= server,database='stock')  \n",
    "        print(\"Connector to MYSQL Server:\",server,\"SUCCESS\")\n",
    "        return cnx\n",
    "    except:   \n",
    "        try:\n",
    "            server = 'ggnas.synology.me'\n",
    "            cnx = mysql.connector.connect(user='stock', password='stock168',host= server,database='stock')   \n",
    "            print(\"Connector to MYSQL Server:\",server,\"SUCCESS\")\n",
    "            return cnx\n",
    "        except:\n",
    "            print(\"Connector to MYSQL Server FAIL\") \n",
    "\n",
    "def main(fucntion):\n",
    "    conn = conn_mysql()\n",
    "    cursor = conn.cursor()\n",
    "    cursor.execute(\"\"\"CREATE TABLE 股票代號 (代號 VARCHAR(10),名稱 VARCHAR(10) )\"\"\")\n",
    "    cursor.execute(\"\"\"CREATE TABLE 股價\n",
    "                    (日期 DATE,代號 VARCHAR(10),名稱 VARCHAR(10),\n",
    "                    開盤價 INT,收盤價 INT,漲跌 INT,漲跌百分比 INT,\n",
    "                    最高 INT,最低 INT,日量 INT,均線50 INT,均線200 INT,\n",
    "                    本益比 INT,殖利率 INT,股價淨值比 INT)\"\"\")          \n",
    "\n",
    "    cursor.execute(\"\"\"CREATE TABLE 指標\n",
    "                    (日期 DATE,代號 VARCHAR(10),名稱 VARCHAR(10),本益比 INT,殖利率 INT,股價淨值比 INT)\"\"\")    \n",
    "    \n",
    "    cursor.execute(\"\"\"CREATE TABLE 營收\n",
    "                    (日期 DATE,代號 VARCHAR(10),名稱 VARCHAR(10),EPS INT,月營收 INT,\n",
    "                    季營收 INT,年營收 INT,配息 INT,配股 INT)\"\"\")\n",
    "    \n",
    "    print (\"MySQL LIB created successfully\")  \n",
    "    \n",
    "    conn.close()\n",
    "    \n",
    "if __name__ == '__main__':\n",
    "    main(sys.argv[1])         \n"
   ]
  },
  {
   "cell_type": "code",
   "execution_count": null,
   "metadata": {
    "collapsed": true
   },
   "outputs": [],
   "source": []
  }
 ],
 "metadata": {
  "kernelspec": {
   "display_name": "Python 3",
   "language": "python",
   "name": "python3"
  },
  "language_info": {
   "codemirror_mode": {
    "name": "ipython",
    "version": 3
   },
   "file_extension": ".py",
   "mimetype": "text/x-python",
   "name": "python",
   "nbconvert_exporter": "python",
   "pygments_lexer": "ipython3",
   "version": "3.6.0"
  }
 },
 "nbformat": 4,
 "nbformat_minor": 2
}
